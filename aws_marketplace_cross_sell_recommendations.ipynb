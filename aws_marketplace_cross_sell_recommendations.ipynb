{
 "cells": [
  {
   "cell_type": "code",
   "execution_count": 9,
   "metadata": {},
   "outputs": [],
   "source": [
    "import os\n",
    "import pandas as pd\n",
    "import boto3\n",
    "\n",
    "from sagemaker import ModelPackage\n",
    "import sagemaker as sagemaker\n",
    "from sagemaker import get_execution_role\n",
    "\n",
    "\n",
    "from src.configuration import Configuration\n",
    "from src.services import S3, Woocommerce"
   ]
  },
  {
   "cell_type": "code",
   "execution_count": 10,
   "metadata": {},
   "outputs": [],
   "source": [
    "config = Configuration('configs/config.json').parameters"
   ]
  },
  {
   "cell_type": "code",
   "execution_count": 11,
   "metadata": {},
   "outputs": [],
   "source": [
    "# Configure access to AWS and WordPress\n",
    "\n",
    "s3 = S3(region_name = config['s3']['region_name'],\n",
    "        access_key =  config['aws_keys'][\"access_key\"],\n",
    "       secret_key = config['aws_keys'][\"secret_key\"],\n",
    "       bucket = config['s3'][\"bucket\"])\n",
    "\n",
    "woocommerce = Woocommerce(url=config['woocommerce'][\"url\"],\n",
    "                         consumer_key=config['woocommerce'][\"consumer_key\"],\n",
    "                         consumer_secret=config['woocommerce'][\"consumer_secret\"])"
   ]
  },
  {
   "cell_type": "code",
   "execution_count": 4,
   "metadata": {},
   "outputs": [],
   "source": [
    "# Communicate with the MySQL WordPress database via the Woocommerce Rest API\n",
    "\n",
    "woocommerce.download_data('data/input_data.csv')"
   ]
  },
  {
   "cell_type": "code",
   "execution_count": 12,
   "metadata": {},
   "outputs": [
    {
     "name": "stdout",
     "output_type": "stream",
     "text": [
      "."
     ]
    },
    {
     "ename": "KeyboardInterrupt",
     "evalue": "",
     "output_type": "error",
     "traceback": [
      "\u001b[0;31m---------------------------------------------------------------------------\u001b[0m",
      "\u001b[0;31mKeyboardInterrupt\u001b[0m                         Traceback (most recent call last)",
      "\u001b[0;32m<ipython-input-12-6501a089ae5b>\u001b[0m in \u001b[0;36m<module>\u001b[0;34m\u001b[0m\n\u001b[1;32m     32\u001b[0m \u001b[0mtransformer\u001b[0m\u001b[0;34m.\u001b[0m\u001b[0mtransform\u001b[0m\u001b[0;34m(\u001b[0m\u001b[0minput_path\u001b[0m\u001b[0;34m,\u001b[0m \u001b[0mcontent_type\u001b[0m\u001b[0;34m=\u001b[0m\u001b[0;34m'text/csv'\u001b[0m\u001b[0;34m)\u001b[0m\u001b[0;34m\u001b[0m\u001b[0;34m\u001b[0m\u001b[0m\n\u001b[1;32m     33\u001b[0m \u001b[0;34m\u001b[0m\u001b[0m\n\u001b[0;32m---> 34\u001b[0;31m \u001b[0mtransformer\u001b[0m\u001b[0;34m.\u001b[0m\u001b[0mwait\u001b[0m\u001b[0;34m(\u001b[0m\u001b[0;34m)\u001b[0m\u001b[0;34m\u001b[0m\u001b[0;34m\u001b[0m\u001b[0m\n\u001b[0m",
      "\u001b[0;32m/anaconda3/lib/python3.7/site-packages/sagemaker/transformer.py\u001b[0m in \u001b[0;36mwait\u001b[0;34m(self, logs)\u001b[0m\n\u001b[1;32m    253\u001b[0m         \u001b[0;34m\"\"\"Placeholder docstring\"\"\"\u001b[0m\u001b[0;34m\u001b[0m\u001b[0;34m\u001b[0m\u001b[0m\n\u001b[1;32m    254\u001b[0m         \u001b[0mself\u001b[0m\u001b[0;34m.\u001b[0m\u001b[0m_ensure_last_transform_job\u001b[0m\u001b[0;34m(\u001b[0m\u001b[0;34m)\u001b[0m\u001b[0;34m\u001b[0m\u001b[0;34m\u001b[0m\u001b[0m\n\u001b[0;32m--> 255\u001b[0;31m         \u001b[0mself\u001b[0m\u001b[0;34m.\u001b[0m\u001b[0mlatest_transform_job\u001b[0m\u001b[0;34m.\u001b[0m\u001b[0mwait\u001b[0m\u001b[0;34m(\u001b[0m\u001b[0mlogs\u001b[0m\u001b[0;34m=\u001b[0m\u001b[0mlogs\u001b[0m\u001b[0;34m)\u001b[0m\u001b[0;34m\u001b[0m\u001b[0;34m\u001b[0m\u001b[0m\n\u001b[0m\u001b[1;32m    256\u001b[0m \u001b[0;34m\u001b[0m\u001b[0m\n\u001b[1;32m    257\u001b[0m     \u001b[0;32mdef\u001b[0m \u001b[0mstop_transform_job\u001b[0m\u001b[0;34m(\u001b[0m\u001b[0mself\u001b[0m\u001b[0;34m,\u001b[0m \u001b[0mwait\u001b[0m\u001b[0;34m=\u001b[0m\u001b[0;32mTrue\u001b[0m\u001b[0;34m)\u001b[0m\u001b[0;34m:\u001b[0m\u001b[0;34m\u001b[0m\u001b[0;34m\u001b[0m\u001b[0m\n",
      "\u001b[0;32m/anaconda3/lib/python3.7/site-packages/sagemaker/transformer.py\u001b[0m in \u001b[0;36mwait\u001b[0;34m(self, logs)\u001b[0m\n\u001b[1;32m    382\u001b[0m     \u001b[0;32mdef\u001b[0m \u001b[0mwait\u001b[0m\u001b[0;34m(\u001b[0m\u001b[0mself\u001b[0m\u001b[0;34m,\u001b[0m \u001b[0mlogs\u001b[0m\u001b[0;34m=\u001b[0m\u001b[0;32mTrue\u001b[0m\u001b[0;34m)\u001b[0m\u001b[0;34m:\u001b[0m\u001b[0;34m\u001b[0m\u001b[0;34m\u001b[0m\u001b[0m\n\u001b[1;32m    383\u001b[0m         \u001b[0;32mif\u001b[0m \u001b[0mlogs\u001b[0m\u001b[0;34m:\u001b[0m\u001b[0;34m\u001b[0m\u001b[0;34m\u001b[0m\u001b[0m\n\u001b[0;32m--> 384\u001b[0;31m             \u001b[0mself\u001b[0m\u001b[0;34m.\u001b[0m\u001b[0msagemaker_session\u001b[0m\u001b[0;34m.\u001b[0m\u001b[0mlogs_for_transform_job\u001b[0m\u001b[0;34m(\u001b[0m\u001b[0mself\u001b[0m\u001b[0;34m.\u001b[0m\u001b[0mjob_name\u001b[0m\u001b[0;34m,\u001b[0m \u001b[0mwait\u001b[0m\u001b[0;34m=\u001b[0m\u001b[0;32mTrue\u001b[0m\u001b[0;34m)\u001b[0m\u001b[0;34m\u001b[0m\u001b[0;34m\u001b[0m\u001b[0m\n\u001b[0m\u001b[1;32m    385\u001b[0m         \u001b[0;32melse\u001b[0m\u001b[0;34m:\u001b[0m\u001b[0;34m\u001b[0m\u001b[0;34m\u001b[0m\u001b[0m\n\u001b[1;32m    386\u001b[0m             \u001b[0mself\u001b[0m\u001b[0;34m.\u001b[0m\u001b[0msagemaker_session\u001b[0m\u001b[0;34m.\u001b[0m\u001b[0mwait_for_transform_job\u001b[0m\u001b[0;34m(\u001b[0m\u001b[0mself\u001b[0m\u001b[0;34m.\u001b[0m\u001b[0mjob_name\u001b[0m\u001b[0;34m)\u001b[0m\u001b[0;34m\u001b[0m\u001b[0;34m\u001b[0m\u001b[0m\n",
      "\u001b[0;32m/anaconda3/lib/python3.7/site-packages/sagemaker/session.py\u001b[0m in \u001b[0;36mlogs_for_transform_job\u001b[0;34m(self, job_name, wait, poll)\u001b[0m\n\u001b[1;32m   3195\u001b[0m                 \u001b[0;32mbreak\u001b[0m\u001b[0;34m\u001b[0m\u001b[0;34m\u001b[0m\u001b[0m\n\u001b[1;32m   3196\u001b[0m \u001b[0;34m\u001b[0m\u001b[0m\n\u001b[0;32m-> 3197\u001b[0;31m             \u001b[0mtime\u001b[0m\u001b[0;34m.\u001b[0m\u001b[0msleep\u001b[0m\u001b[0;34m(\u001b[0m\u001b[0mpoll\u001b[0m\u001b[0;34m)\u001b[0m\u001b[0;34m\u001b[0m\u001b[0;34m\u001b[0m\u001b[0m\n\u001b[0m\u001b[1;32m   3198\u001b[0m \u001b[0;34m\u001b[0m\u001b[0m\n\u001b[1;32m   3199\u001b[0m             \u001b[0;32mif\u001b[0m \u001b[0mstate\u001b[0m \u001b[0;34m==\u001b[0m \u001b[0mLogState\u001b[0m\u001b[0;34m.\u001b[0m\u001b[0mJOB_COMPLETE\u001b[0m\u001b[0;34m:\u001b[0m\u001b[0;34m\u001b[0m\u001b[0;34m\u001b[0m\u001b[0m\n",
      "\u001b[0;31mKeyboardInterrupt\u001b[0m: "
     ]
    }
   ],
   "source": [
    "# Upload transactional data to S3\n",
    "\n",
    "s3.upload('data/input_data.csv','input_data.csv')\n",
    "\n",
    "\n",
    "model_package_arn = config['batch_transform_job']['model_package_arn']\n",
    "\n",
    "iam = boto3.client('iam')\n",
    "role = iam.get_role(RoleName=config['batch_transform_job']['role_name'])['Role']['Arn']\n",
    "\n",
    "sagemaker_session = sagemaker.Session()\n",
    "\n",
    "\n",
    "model = ModelPackage(model_package_arn=model_package_arn,\n",
    "                    role = role,\n",
    "                    sagemaker_session = sagemaker_session)\n",
    "\n",
    "\n",
    "\n",
    "\n",
    "output_path = 's3://' + os.path.join(config['s3']['bucket'],'output')\n",
    "\n",
    "transformer = model.transformer(instance_count=config['batch_transform_job']['instance_count'], \n",
    "                                instance_type=config['batch_transform_job']['instance_type'],\n",
    "                                output_path=output_path)\n",
    "\n",
    "\n",
    "\n",
    "input_path = 's3://' + os.path.join(config[\"s3\"][\"bucket\"], config[\"s3\"][\"input_file\"])\n",
    "\n",
    "\n",
    "transformer.transform(input_path, content_type='text/csv')\n",
    "\n",
    "transformer.wait()"
   ]
  },
  {
   "cell_type": "code",
   "execution_count": 13,
   "metadata": {},
   "outputs": [],
   "source": [
    "# Recommendations produced by the model are stored in S3. Donwloading them:\n",
    "\n",
    "\n",
    "bucket_folder = transformer.output_path.rsplit('/')[3]\n",
    "key = os.path.join(bucket_folder, config[\"s3\"][\"input_file\"].split('/')[-1]+'.out')\n",
    "\n",
    "\n",
    "s3.download(key, 'data/output_data.csv')"
   ]
  },
  {
   "cell_type": "code",
   "execution_count": 14,
   "metadata": {},
   "outputs": [
    {
     "data": {
      "text/html": [
       "<div>\n",
       "<style scoped>\n",
       "    .dataframe tbody tr th:only-of-type {\n",
       "        vertical-align: middle;\n",
       "    }\n",
       "\n",
       "    .dataframe tbody tr th {\n",
       "        vertical-align: top;\n",
       "    }\n",
       "\n",
       "    .dataframe thead th {\n",
       "        text-align: right;\n",
       "    }\n",
       "</style>\n",
       "<table border=\"1\" class=\"dataframe\">\n",
       "  <thead>\n",
       "    <tr style=\"text-align: right;\">\n",
       "      <th></th>\n",
       "      <th>Item in cart</th>\n",
       "      <th>Recommendation</th>\n",
       "      <th>Item Support</th>\n",
       "      <th>Support</th>\n",
       "      <th>Confidence</th>\n",
       "      <th>Lift</th>\n",
       "      <th>Leverage</th>\n",
       "      <th>Conviction</th>\n",
       "    </tr>\n",
       "  </thead>\n",
       "  <tbody>\n",
       "    <tr>\n",
       "      <th>0</th>\n",
       "      <td>RED ORCHID</td>\n",
       "      <td>GREEN ORCHID</td>\n",
       "      <td>0.249443</td>\n",
       "      <td>0.133630</td>\n",
       "      <td>0.535714</td>\n",
       "      <td>3.340774</td>\n",
       "      <td>0.093630</td>\n",
       "      <td>1.808463</td>\n",
       "    </tr>\n",
       "    <tr>\n",
       "      <th>1</th>\n",
       "      <td>RED ORCHID</td>\n",
       "      <td>BONSAI PINE</td>\n",
       "      <td>0.249443</td>\n",
       "      <td>0.075724</td>\n",
       "      <td>0.303571</td>\n",
       "      <td>2.163549</td>\n",
       "      <td>0.040724</td>\n",
       "      <td>1.234424</td>\n",
       "    </tr>\n",
       "    <tr>\n",
       "      <th>2</th>\n",
       "      <td>RED ORCHID</td>\n",
       "      <td>SWEET WILLIAM</td>\n",
       "      <td>0.249443</td>\n",
       "      <td>0.071269</td>\n",
       "      <td>0.285714</td>\n",
       "      <td>2.729483</td>\n",
       "      <td>0.045159</td>\n",
       "      <td>1.253452</td>\n",
       "    </tr>\n",
       "    <tr>\n",
       "      <th>3</th>\n",
       "      <td>RED ORCHID</td>\n",
       "      <td>WHITE ORCHID</td>\n",
       "      <td>0.249443</td>\n",
       "      <td>0.064588</td>\n",
       "      <td>0.258929</td>\n",
       "      <td>2.004464</td>\n",
       "      <td>0.032366</td>\n",
       "      <td>1.175088</td>\n",
       "    </tr>\n",
       "    <tr>\n",
       "      <th>4</th>\n",
       "      <td>RED ORCHID</td>\n",
       "      <td>SUNFLOWER</td>\n",
       "      <td>0.249443</td>\n",
       "      <td>0.057906</td>\n",
       "      <td>0.232143</td>\n",
       "      <td>1.966644</td>\n",
       "      <td>0.028462</td>\n",
       "      <td>1.148599</td>\n",
       "    </tr>\n",
       "  </tbody>\n",
       "</table>\n",
       "</div>"
      ],
      "text/plain": [
       "  Item in cart Recommendation  Item Support   Support  Confidence      Lift  \\\n",
       "0   RED ORCHID   GREEN ORCHID      0.249443  0.133630    0.535714  3.340774   \n",
       "1   RED ORCHID    BONSAI PINE      0.249443  0.075724    0.303571  2.163549   \n",
       "2   RED ORCHID  SWEET WILLIAM      0.249443  0.071269    0.285714  2.729483   \n",
       "3   RED ORCHID   WHITE ORCHID      0.249443  0.064588    0.258929  2.004464   \n",
       "4   RED ORCHID      SUNFLOWER      0.249443  0.057906    0.232143  1.966644   \n",
       "\n",
       "   Leverage  Conviction  \n",
       "0  0.093630    1.808463  \n",
       "1  0.040724    1.234424  \n",
       "2  0.045159    1.253452  \n",
       "3  0.032366    1.175088  \n",
       "4  0.028462    1.148599  "
      ]
     },
     "execution_count": 14,
     "metadata": {},
     "output_type": "execute_result"
    }
   ],
   "source": [
    "# loading and visualizing the output recommendations\n",
    "\n",
    "output_df  = pd.read_csv('data/output_data.csv')\n",
    "output_df  = output_df.drop('Unnamed: 0',1)\n",
    "out_final = output_df\n",
    "out_final.head()"
   ]
  },
  {
   "cell_type": "code",
   "execution_count": 15,
   "metadata": {},
   "outputs": [],
   "source": [
    "## We push them to our online shop using the Woocommerce Rest API\n",
    "\n",
    "woocommerce.upload_recommendations('data/output_data.csv')"
   ]
  },
  {
   "cell_type": "code",
   "execution_count": null,
   "metadata": {},
   "outputs": [],
   "source": []
  }
 ],
 "metadata": {
  "kernelspec": {
   "display_name": "Python 3",
   "language": "python",
   "name": "python3"
  },
  "language_info": {
   "codemirror_mode": {
    "name": "ipython",
    "version": 3
   },
   "file_extension": ".py",
   "mimetype": "text/x-python",
   "name": "python",
   "nbconvert_exporter": "python",
   "pygments_lexer": "ipython3",
   "version": "3.7.3"
  }
 },
 "nbformat": 4,
 "nbformat_minor": 2
}
