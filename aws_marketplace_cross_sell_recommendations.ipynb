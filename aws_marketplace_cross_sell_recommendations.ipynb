{
 "cells": [
  {
   "cell_type": "code",
   "execution_count": null,
   "metadata": {},
   "outputs": [],
   "source": [
    "import os\n",
    "import pandas as pd\n",
    "\n",
    "from sagemaker import ModelPackage\n",
    "import sagemaker as sagemaker\n",
    "from sagemaker import get_execution_role\n",
    "\n",
    "\n",
    "from src.configuration import Configuration\n",
    "from src.services import S3, Woocommerce"
   ]
  },
  {
   "cell_type": "code",
   "execution_count": 2,
   "metadata": {},
   "outputs": [],
   "source": [
    "config = Configuration('configs/config.json').parameters"
   ]
  },
  {
   "cell_type": "code",
   "execution_count": 5,
   "metadata": {},
   "outputs": [],
   "source": [
    "# region_name, access_key, secret_key, bucket\n",
    "\n",
    "#  url: str, consumer_key: str, consumer_secret: str\n",
    "\n",
    "s3 = S3(region_name = config['s3']['region_name'],\n",
    "        access_key =  config['aws_keys'][\"access_key\"],\n",
    "       secret_key = config['aws_keys'][\"secret_key\"],\n",
    "       bucket = config['s3'][\"bucket\"])\n",
    "\n",
    "woocommerce = Woocommerce(url=config['woocommerce'][\"url\"],\n",
    "                         consumer_key=config['woocommerce'][\"consumer_key\"],\n",
    "                         consumer_secret=config['woocommerce'][\"consumer_secret\"])"
   ]
  },
  {
   "cell_type": "code",
   "execution_count": 6,
   "metadata": {},
   "outputs": [],
   "source": [
    "woocommerce.download_data('data/input_data.csv')"
   ]
  },
  {
   "cell_type": "code",
   "execution_count": 7,
   "metadata": {
    "scrolled": true
   },
   "outputs": [],
   "source": [
    "mydata = pd.read_csv('data/input_data.csv')"
   ]
  },
  {
   "cell_type": "code",
   "execution_count": 8,
   "metadata": {
    "scrolled": true
   },
   "outputs": [
    {
     "data": {
      "text/plain": [
       "Index(['InvoiceID', 'SKUID', 'Item'], dtype='object')"
      ]
     },
     "execution_count": 8,
     "metadata": {},
     "output_type": "execute_result"
    }
   ],
   "source": [
    "mydata.columns"
   ]
  },
  {
   "cell_type": "code",
   "execution_count": 9,
   "metadata": {
    "scrolled": true
   },
   "outputs": [
    {
     "data": {
      "text/plain": [
       "55"
      ]
     },
     "execution_count": 9,
     "metadata": {},
     "output_type": "execute_result"
    }
   ],
   "source": [
    "mydata['InvoiceID'].loc[0]"
   ]
  },
  {
   "cell_type": "code",
   "execution_count": 10,
   "metadata": {},
   "outputs": [
    {
     "data": {
      "text/plain": [
       "(41604, 3)"
      ]
     },
     "execution_count": 10,
     "metadata": {},
     "output_type": "execute_result"
    }
   ],
   "source": [
    "mydata.shape"
   ]
  },
  {
   "cell_type": "code",
   "execution_count": 11,
   "metadata": {},
   "outputs": [],
   "source": [
    "mydata.tail(100).to_csv('data/test.csv', index=False)"
   ]
  },
  {
   "cell_type": "code",
   "execution_count": 11,
   "metadata": {},
   "outputs": [],
   "source": [
    "sample = pd.read_csv('data/sample_input.csv')"
   ]
  },
  {
   "cell_type": "code",
   "execution_count": 30,
   "metadata": {},
   "outputs": [],
   "source": [
    "data = pd.read_csv('data/sample_input_test.csv')"
   ]
  },
  {
   "cell_type": "code",
   "execution_count": 31,
   "metadata": {},
   "outputs": [
    {
     "data": {
      "text/html": [
       "<div>\n",
       "<style scoped>\n",
       "    .dataframe tbody tr th:only-of-type {\n",
       "        vertical-align: middle;\n",
       "    }\n",
       "\n",
       "    .dataframe tbody tr th {\n",
       "        vertical-align: top;\n",
       "    }\n",
       "\n",
       "    .dataframe thead th {\n",
       "        text-align: right;\n",
       "    }\n",
       "</style>\n",
       "<table border=\"1\" class=\"dataframe\">\n",
       "  <thead>\n",
       "    <tr style=\"text-align: right;\">\n",
       "      <th></th>\n",
       "      <th>InvoiceID</th>\n",
       "      <th>SKUID</th>\n",
       "      <th>Item</th>\n",
       "    </tr>\n",
       "  </thead>\n",
       "  <tbody>\n",
       "    <tr>\n",
       "      <th>0</th>\n",
       "      <td>536527</td>\n",
       "      <td>22809</td>\n",
       "      <td>SET OF 6 T-LIGHTS SANTA</td>\n",
       "    </tr>\n",
       "    <tr>\n",
       "      <th>1</th>\n",
       "      <td>536527</td>\n",
       "      <td>84347</td>\n",
       "      <td>ROTATING SILVER ANGELS T-LIGHT HLDR</td>\n",
       "    </tr>\n",
       "    <tr>\n",
       "      <th>2</th>\n",
       "      <td>536527</td>\n",
       "      <td>84945</td>\n",
       "      <td>MULTI COLOUR SILVER T-LIGHT HOLDER</td>\n",
       "    </tr>\n",
       "    <tr>\n",
       "      <th>3</th>\n",
       "      <td>536527</td>\n",
       "      <td>22242</td>\n",
       "      <td>5 HOOK HANGER MAGIC TOADSTOOL</td>\n",
       "    </tr>\n",
       "    <tr>\n",
       "      <th>4</th>\n",
       "      <td>536527</td>\n",
       "      <td>22244</td>\n",
       "      <td>3 HOOK HANGER MAGIC GARDEN</td>\n",
       "    </tr>\n",
       "    <tr>\n",
       "      <th>...</th>\n",
       "      <td>...</td>\n",
       "      <td>...</td>\n",
       "      <td>...</td>\n",
       "    </tr>\n",
       "    <tr>\n",
       "      <th>9107</th>\n",
       "      <td>581578</td>\n",
       "      <td>22993</td>\n",
       "      <td>SET OF 4 PANTRY JELLY MOULDS</td>\n",
       "    </tr>\n",
       "    <tr>\n",
       "      <th>9108</th>\n",
       "      <td>581578</td>\n",
       "      <td>22907</td>\n",
       "      <td>PACK OF 20 NAPKINS PANTRY DESIGN</td>\n",
       "    </tr>\n",
       "    <tr>\n",
       "      <th>9109</th>\n",
       "      <td>581578</td>\n",
       "      <td>22908</td>\n",
       "      <td>PACK OF 20 NAPKINS RED APPLES</td>\n",
       "    </tr>\n",
       "    <tr>\n",
       "      <th>9110</th>\n",
       "      <td>581578</td>\n",
       "      <td>23215</td>\n",
       "      <td>JINGLE BELL HEART ANTIQUE SILVER</td>\n",
       "    </tr>\n",
       "    <tr>\n",
       "      <th>9111</th>\n",
       "      <td>581578</td>\n",
       "      <td>22736</td>\n",
       "      <td>RIBBON REEL MAKING SNOWMEN</td>\n",
       "    </tr>\n",
       "  </tbody>\n",
       "</table>\n",
       "<p>9112 rows × 3 columns</p>\n",
       "</div>"
      ],
      "text/plain": [
       "     InvoiceID  SKUID                                 Item\n",
       "0       536527  22809              SET OF 6 T-LIGHTS SANTA\n",
       "1       536527  84347  ROTATING SILVER ANGELS T-LIGHT HLDR\n",
       "2       536527  84945   MULTI COLOUR SILVER T-LIGHT HOLDER\n",
       "3       536527  22242        5 HOOK HANGER MAGIC TOADSTOOL\n",
       "4       536527  22244           3 HOOK HANGER MAGIC GARDEN\n",
       "...        ...    ...                                  ...\n",
       "9107    581578  22993         SET OF 4 PANTRY JELLY MOULDS\n",
       "9108    581578  22907     PACK OF 20 NAPKINS PANTRY DESIGN\n",
       "9109    581578  22908        PACK OF 20 NAPKINS RED APPLES\n",
       "9110    581578  23215     JINGLE BELL HEART ANTIQUE SILVER\n",
       "9111    581578  22736           RIBBON REEL MAKING SNOWMEN\n",
       "\n",
       "[9112 rows x 3 columns]"
      ]
     },
     "execution_count": 31,
     "metadata": {},
     "output_type": "execute_result"
    }
   ],
   "source": [
    "data"
   ]
  },
  {
   "cell_type": "code",
   "execution_count": null,
   "metadata": {},
   "outputs": [],
   "source": []
  },
  {
   "cell_type": "code",
   "execution_count": 32,
   "metadata": {
    "scrolled": true
   },
   "outputs": [],
   "source": [
    "data_r = data[data['SKUID'].apply(lambda x: x.isnumeric())]"
   ]
  },
  {
   "cell_type": "code",
   "execution_count": 33,
   "metadata": {},
   "outputs": [],
   "source": [
    "data_r = data_r[data_r['SKUID'].apply(lambda x: int(x)<100)]"
   ]
  },
  {
   "cell_type": "code",
   "execution_count": 35,
   "metadata": {},
   "outputs": [],
   "source": [
    "data_r.to_csv('data/sample_input_sample.csv', index=False)"
   ]
  },
  {
   "cell_type": "code",
   "execution_count": 37,
   "metadata": {},
   "outputs": [
    {
     "name": "stdout",
     "output_type": "stream",
     "text": [
      "...............\u001b[34m * Serving Flask app \"serve\" (lazy loading)\n",
      " * Environment: production\n",
      "   WARNING: This is a development server. Do not use it in a production deployment.\n",
      "   Use a production WSGI server instead.\n",
      " * Debug mode: on\n",
      " * Running on http://0.0.0.0:8080/ (Press CTRL+C to quit)\n",
      " * Restarting with stat\n",
      " * Debugger is active!\n",
      " * Debugger PIN: 833-460-156\u001b[0m\n",
      "\u001b[34m169.254.255.130 - - [14/Apr/2020 18:55:25] \"GET /ping HTTP/1.1\" 200 -\u001b[0m\n",
      "\u001b[34m169.254.255.130 - - [14/Apr/2020 18:55:25] \"GET /execution-parameters HTTP/1.1\" 404 -\u001b[0m\n",
      "\u001b[35m169.254.255.130 - - [14/Apr/2020 18:55:25] \"GET /ping HTTP/1.1\" 200 -\u001b[0m\n",
      "\u001b[35m169.254.255.130 - - [14/Apr/2020 18:55:25] \"GET /execution-parameters HTTP/1.1\" 404 -\u001b[0m\n",
      "\u001b[32m2020-04-14T18:55:25.583:[sagemaker logs]: MaxConcurrentTransforms=1, MaxPayloadInMB=6, BatchStrategy=MULTI_RECORD\u001b[0m\n",
      "\u001b[34m169.254.255.130 - - [14/Apr/2020 18:55:27] \"POST /invocations HTTP/1.1\" 200 -\u001b[0m\n",
      "\u001b[35m169.254.255.130 - - [14/Apr/2020 18:55:27] \"POST /invocations HTTP/1.1\" 200 -\u001b[0m\n",
      "\n"
     ]
    }
   ],
   "source": [
    "s3.upload('data/sample_input_test.csv','input_data.csv')\n",
    "\n",
    "model_package_arn = config['batch_transform_job']['model_package_arn']\n",
    "\n",
    "iam = boto3.client('iam')\n",
    "role = iam.get_role(RoleName=config['batch_transform_job']['role_name'])['Role']['Arn']\n",
    "\n",
    "sagemaker_session = sagemaker.Session()\n",
    "\n",
    "model = ModelPackage(model_package_arn=model_package_arn,\n",
    "                    role = role,\n",
    "                    sagemaker_session = sagemaker_session)\n",
    "\n",
    "output_path = 's3://' + os.path.join(config['s3']['bucket'],'output')\n",
    "\n",
    "transformer = model.transformer(instance_count=config['batch_transform_job']['instance_count'], \n",
    "                                instance_type=config['batch_transform_job']['instance_type'],\n",
    "                                output_path=output_path)\n",
    "\n",
    "input_path = 's3://' + os.path.join(config[\"s3\"][\"bucket\"], config[\"s3\"][\"input_file\"])\n",
    "\n",
    "\n",
    "transformer.transform(input_path, content_type='text/csv')\n",
    "\n",
    "transformer.wait()"
   ]
  },
  {
   "cell_type": "code",
   "execution_count": null,
   "metadata": {},
   "outputs": [],
   "source": [
    "ouput_filenme = config[\"s3\"][\"input_file\"].split('/')[-1]+'.out'"
   ]
  },
  {
   "cell_type": "code",
   "execution_count": null,
   "metadata": {},
   "outputs": [],
   "source": [
    "bucket_folder = transformer.output_path.rsplit('/')[3]"
   ]
  },
  {
   "cell_type": "code",
   "execution_count": 31,
   "metadata": {},
   "outputs": [
    {
     "name": "stdout",
     "output_type": "stream",
     "text": [
      "Output file loaded from bucket\n"
     ]
    }
   ],
   "source": [
    "s3_conn = boto3.client(\"s3\")\n",
    "bucket_name=config[\"s3\"][\"bucket\"]\n",
    "with open('data/recommendations.csv', 'wb') as f:\n",
    "    s3_conn.download_fileobj(bucket_name, os.path.join(bucket_folder,ouput_filenme), f)\n",
    "    print(\"Output file loaded from bucket\")"
   ]
  },
  {
   "cell_type": "code",
   "execution_count": 28,
   "metadata": {},
   "outputs": [
    {
     "name": "stdout",
     "output_type": "stream",
     "text": [
      "Output: \n"
     ]
    },
    {
     "data": {
      "text/html": [
       "<div>\n",
       "<style scoped>\n",
       "    .dataframe tbody tr th:only-of-type {\n",
       "        vertical-align: middle;\n",
       "    }\n",
       "\n",
       "    .dataframe tbody tr th {\n",
       "        vertical-align: top;\n",
       "    }\n",
       "\n",
       "    .dataframe thead th {\n",
       "        text-align: right;\n",
       "    }\n",
       "</style>\n",
       "<table border=\"1\" class=\"dataframe\">\n",
       "  <thead>\n",
       "    <tr style=\"text-align: right;\">\n",
       "      <th></th>\n",
       "      <th>Item in cart</th>\n",
       "      <th>Recommendation</th>\n",
       "      <th>Item Support</th>\n",
       "      <th>Support</th>\n",
       "      <th>Confidence</th>\n",
       "      <th>Lift</th>\n",
       "      <th>Leverage</th>\n",
       "      <th>Conviction</th>\n",
       "    </tr>\n",
       "  </thead>\n",
       "  <tbody>\n",
       "  </tbody>\n",
       "</table>\n",
       "</div>"
      ],
      "text/plain": [
       "Empty DataFrame\n",
       "Columns: [Item in cart, Recommendation, Item Support, Support, Confidence, Lift, Leverage, Conviction]\n",
       "Index: []"
      ]
     },
     "execution_count": 28,
     "metadata": {},
     "output_type": "execute_result"
    }
   ],
   "source": [
    "output_df  = pd.read_csv(\"recommendations.csv\")\n",
    "output_df  = output_df.drop('Unnamed: 0',1)\n",
    "out_final = output_df\n",
    "print(\"Output: \")\n",
    "out_final.head()"
   ]
  },
  {
   "cell_type": "markdown",
   "metadata": {},
   "source": [
    "# Usage Instructions - Mphasis HyperGraf Market Basket Analysis\n",
    "\n",
    "Mphasis HyperGraf Market Basket Analysis uncovers associations between articles and identifies the frequent products which are likely to be purchased together by analyzing large volumes of transactional data. Mphasis HyperGraf is an omni- channel digital 360° solution that transforms enterprise decision making by providing the most comprehensive, accurate, real-time and actionable customer engagement insights across millions of data points spread over multiple engagement channels.\n",
    "\n",
    "### Prerequisite\n",
    "\n",
    "To run this algorithm you need to have access to the following AWS Services:\n",
    "- Access to AWS SageMaker and the model package.\n",
    "- An S3 bucket to specify input/output.\n",
    "- Role for AWS SageMaker to access input/output from S3.\n",
    "\n",
    "\n",
    "## Input Data\n",
    "\n",
    "\n",
    "\n",
    "    1) The input dataset should be in csv format.\n",
    "\n",
    "    2) The column names in input file should be:\n",
    "\n",
    "        *  InvoiceID: This is the Invoice Number which is the systematically assigned sequential code unique to each invoice.\n",
    "        *  SKUID: Stock Keeping Unit ID.\n",
    "        *  Item: description of item, a string, name of item along with brand name and color name.\n",
    "\n",
    "    3) More than one items may have same stock keeping unit id(SKUID), but no item can have more than one stock keeping unit id.\n",
    "\n",
    "    4) The return orders must contain ‘C’ in Invoice number.\n",
    "\n",
    "    5) No item mentioned in the description can have more than one stock keeping unit.\n",
    "    \n",
    "    \n",
    "- The output file (in csv format) contains the following columns:\n",
    "\n",
    "    1. Item in cart: A single item added in cart. If nothing added, then the output file contains all the filtered rules based on set threshold values.\n",
    "\n",
    "    2. Recommendation: The consequent of the item added in the cart.\n",
    "\n",
    "    3. Item support: The proportion of transactions containing the item in cart (antecedent).\n",
    "\n",
    "    4. Confidence: Given an antecedent, the probability of the consequent in the same transaction is confidence.\n",
    "\n",
    "    5. Lift: Measures the dependency of consequent on the antecedent. If Lift = 1, then the antecedent and consequent are independent. If Lift > 1, then given the antecedent, the probability of consequent is greater than the support of the consequent.\n",
    "\n",
    "    6. Conviction: The dependency of consequent on the antecedent increases with conviction value.\n",
    "\n",
    "    If conviction = 1, then the antecedent and consequent are independent.\n",
    "\n",
    "    7. Leverage: The difference between the probability of set of antecedent and consequent and the probability of antecedent and consequent considering independent to each other. If leverage = 0, the antecedent and consequent are independent.\n",
    "\n",
    "- Generated results are sorted in the decreasing order of item support and can be filtered based on rule support, confidence and lift."
   ]
  }
 ],
 "metadata": {
  "kernelspec": {
   "display_name": "Python 3",
   "language": "python",
   "name": "python3"
  },
  "language_info": {
   "codemirror_mode": {
    "name": "ipython",
    "version": 3
   },
   "file_extension": ".py",
   "mimetype": "text/x-python",
   "name": "python",
   "nbconvert_exporter": "python",
   "pygments_lexer": "ipython3",
   "version": "3.7.3"
  }
 },
 "nbformat": 4,
 "nbformat_minor": 2
}
