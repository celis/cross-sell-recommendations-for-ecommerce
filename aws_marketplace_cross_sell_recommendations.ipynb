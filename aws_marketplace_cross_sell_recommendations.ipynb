{
 "cells": [
  {
   "cell_type": "code",
   "execution_count": 45,
   "metadata": {},
   "outputs": [],
   "source": [
    "import os\n",
    "import pandas as pd\n",
    "\n",
    "from sagemaker import ModelPackage\n",
    "import sagemaker as sagemaker\n",
    "from sagemaker import get_execution_role\n",
    "\n",
    "\n",
    "from src.configuration import Configuration\n",
    "from src.services import S3, Woocommerce"
   ]
  },
  {
   "cell_type": "code",
   "execution_count": 46,
   "metadata": {},
   "outputs": [],
   "source": [
    "config = Configuration('configs/config.json').parameters"
   ]
  },
  {
   "cell_type": "code",
   "execution_count": 47,
   "metadata": {},
   "outputs": [],
   "source": [
    "# Configure access to AWS and WordPress\n",
    "\n",
    "s3 = S3(region_name = config['s3']['region_name'],\n",
    "        access_key =  config['aws_keys'][\"access_key\"],\n",
    "       secret_key = config['aws_keys'][\"secret_key\"],\n",
    "       bucket = config['s3'][\"bucket\"])\n",
    "\n",
    "woocommerce = Woocommerce(url=config['woocommerce'][\"url\"],\n",
    "                         consumer_key=config['woocommerce'][\"consumer_key\"],\n",
    "                         consumer_secret=config['woocommerce'][\"consumer_secret\"])"
   ]
  },
  {
   "cell_type": "code",
   "execution_count": 6,
   "metadata": {},
   "outputs": [],
   "source": [
    "# Communicate with the MySQL WordPress database via the Woocommerce Rest API\n",
    "\n",
    "woocommerce.download_data('data/input_data.csv')"
   ]
  },
  {
   "cell_type": "code",
   "execution_count": 37,
   "metadata": {},
   "outputs": [
    {
     "name": "stdout",
     "output_type": "stream",
     "text": [
      "...............\u001b[34m * Serving Flask app \"serve\" (lazy loading)\n",
      " * Environment: production\n",
      "   WARNING: This is a development server. Do not use it in a production deployment.\n",
      "   Use a production WSGI server instead.\n",
      " * Debug mode: on\n",
      " * Running on http://0.0.0.0:8080/ (Press CTRL+C to quit)\n",
      " * Restarting with stat\n",
      " * Debugger is active!\n",
      " * Debugger PIN: 833-460-156\u001b[0m\n",
      "\u001b[34m169.254.255.130 - - [14/Apr/2020 18:55:25] \"GET /ping HTTP/1.1\" 200 -\u001b[0m\n",
      "\u001b[34m169.254.255.130 - - [14/Apr/2020 18:55:25] \"GET /execution-parameters HTTP/1.1\" 404 -\u001b[0m\n",
      "\u001b[35m169.254.255.130 - - [14/Apr/2020 18:55:25] \"GET /ping HTTP/1.1\" 200 -\u001b[0m\n",
      "\u001b[35m169.254.255.130 - - [14/Apr/2020 18:55:25] \"GET /execution-parameters HTTP/1.1\" 404 -\u001b[0m\n",
      "\u001b[32m2020-04-14T18:55:25.583:[sagemaker logs]: MaxConcurrentTransforms=1, MaxPayloadInMB=6, BatchStrategy=MULTI_RECORD\u001b[0m\n",
      "\u001b[34m169.254.255.130 - - [14/Apr/2020 18:55:27] \"POST /invocations HTTP/1.1\" 200 -\u001b[0m\n",
      "\u001b[35m169.254.255.130 - - [14/Apr/2020 18:55:27] \"POST /invocations HTTP/1.1\" 200 -\u001b[0m\n",
      "\n"
     ]
    }
   ],
   "source": [
    "# Upload transactional data to S3\n",
    "\n",
    "s3.upload('data/input_data.csv','input_data.csv')\n",
    "\n",
    "\n",
    "model_package_arn = config['batch_transform_job']['model_package_arn']\n",
    "\n",
    "iam = boto3.client('iam')\n",
    "role = iam.get_role(RoleName=config['batch_transform_job']['role_name'])['Role']['Arn']\n",
    "\n",
    "sagemaker_session = sagemaker.Session()\n",
    "\n",
    "\n",
    "model = ModelPackage(model_package_arn=model_package_arn,\n",
    "                    role = role,\n",
    "                    sagemaker_session = sagemaker_session)\n",
    "\n",
    "\n",
    "\n",
    "\n",
    "output_path = 's3://' + os.path.join(config['s3']['bucket'],'output')\n",
    "\n",
    "transformer = model.transformer(instance_count=config['batch_transform_job']['instance_count'], \n",
    "                                instance_type=config['batch_transform_job']['instance_type'],\n",
    "                                output_path=output_path)\n",
    "\n",
    "\n",
    "\n",
    "input_path = 's3://' + os.path.join(config[\"s3\"][\"bucket\"], config[\"s3\"][\"input_file\"])\n",
    "\n",
    "\n",
    "transformer.transform(input_path, content_type='text/csv')\n",
    "\n",
    "transformer.wait()"
   ]
  },
  {
   "cell_type": "code",
   "execution_count": 51,
   "metadata": {},
   "outputs": [],
   "source": [
    "# Recommendations produced by the model are stored in S3. Donwloading them:\n",
    "\n",
    "\n",
    "bucket_folder = transformer.output_path.rsplit('/')[3]\n",
    "key = os.path.join(bucket_folder, config[\"s3\"][\"input_file\"].split('/')[-1]+'.out')\n",
    "\n",
    "\n",
    "s3.download(key, 'data/output_data.csv')"
   ]
  },
  {
   "cell_type": "code",
   "execution_count": 55,
   "metadata": {},
   "outputs": [
    {
     "data": {
      "text/html": [
       "<div>\n",
       "<style scoped>\n",
       "    .dataframe tbody tr th:only-of-type {\n",
       "        vertical-align: middle;\n",
       "    }\n",
       "\n",
       "    .dataframe tbody tr th {\n",
       "        vertical-align: top;\n",
       "    }\n",
       "\n",
       "    .dataframe thead th {\n",
       "        text-align: right;\n",
       "    }\n",
       "</style>\n",
       "<table border=\"1\" class=\"dataframe\">\n",
       "  <thead>\n",
       "    <tr style=\"text-align: right;\">\n",
       "      <th></th>\n",
       "      <th>Item in cart</th>\n",
       "      <th>Recommendation</th>\n",
       "      <th>Item Support</th>\n",
       "      <th>Support</th>\n",
       "      <th>Confidence</th>\n",
       "      <th>Lift</th>\n",
       "      <th>Leverage</th>\n",
       "      <th>Conviction</th>\n",
       "    </tr>\n",
       "  </thead>\n",
       "  <tbody>\n",
       "    <tr>\n",
       "      <th>0</th>\n",
       "      <td>RED ORCHID</td>\n",
       "      <td>GREEN ORCHID</td>\n",
       "      <td>0.249443</td>\n",
       "      <td>0.133630</td>\n",
       "      <td>0.535714</td>\n",
       "      <td>3.340774</td>\n",
       "      <td>0.093630</td>\n",
       "      <td>1.808463</td>\n",
       "    </tr>\n",
       "    <tr>\n",
       "      <th>1</th>\n",
       "      <td>RED ORCHID</td>\n",
       "      <td>BONSAI PINE</td>\n",
       "      <td>0.249443</td>\n",
       "      <td>0.075724</td>\n",
       "      <td>0.303571</td>\n",
       "      <td>2.163549</td>\n",
       "      <td>0.040724</td>\n",
       "      <td>1.234424</td>\n",
       "    </tr>\n",
       "    <tr>\n",
       "      <th>2</th>\n",
       "      <td>RED ORCHID</td>\n",
       "      <td>SWEET WILLIAM</td>\n",
       "      <td>0.249443</td>\n",
       "      <td>0.071269</td>\n",
       "      <td>0.285714</td>\n",
       "      <td>2.729483</td>\n",
       "      <td>0.045159</td>\n",
       "      <td>1.253452</td>\n",
       "    </tr>\n",
       "    <tr>\n",
       "      <th>3</th>\n",
       "      <td>RED ORCHID</td>\n",
       "      <td>WHITE ORCHID</td>\n",
       "      <td>0.249443</td>\n",
       "      <td>0.064588</td>\n",
       "      <td>0.258929</td>\n",
       "      <td>2.004464</td>\n",
       "      <td>0.032366</td>\n",
       "      <td>1.175088</td>\n",
       "    </tr>\n",
       "    <tr>\n",
       "      <th>4</th>\n",
       "      <td>RED ORCHID</td>\n",
       "      <td>SUNFLOWER</td>\n",
       "      <td>0.249443</td>\n",
       "      <td>0.057906</td>\n",
       "      <td>0.232143</td>\n",
       "      <td>1.966644</td>\n",
       "      <td>0.028462</td>\n",
       "      <td>1.148599</td>\n",
       "    </tr>\n",
       "  </tbody>\n",
       "</table>\n",
       "</div>"
      ],
      "text/plain": [
       "  Item in cart Recommendation  Item Support   Support  Confidence      Lift  \\\n",
       "0   RED ORCHID   GREEN ORCHID      0.249443  0.133630    0.535714  3.340774   \n",
       "1   RED ORCHID    BONSAI PINE      0.249443  0.075724    0.303571  2.163549   \n",
       "2   RED ORCHID  SWEET WILLIAM      0.249443  0.071269    0.285714  2.729483   \n",
       "3   RED ORCHID   WHITE ORCHID      0.249443  0.064588    0.258929  2.004464   \n",
       "4   RED ORCHID      SUNFLOWER      0.249443  0.057906    0.232143  1.966644   \n",
       "\n",
       "   Leverage  Conviction  \n",
       "0  0.093630    1.808463  \n",
       "1  0.040724    1.234424  \n",
       "2  0.045159    1.253452  \n",
       "3  0.032366    1.175088  \n",
       "4  0.028462    1.148599  "
      ]
     },
     "execution_count": 55,
     "metadata": {},
     "output_type": "execute_result"
    }
   ],
   "source": [
    "# loading and visualizing the output recommendations\n",
    "\n",
    "output_df  = pd.read_csv('data/output_data.csv')\n",
    "output_df  = output_df.drop('Unnamed: 0',1)\n",
    "out_final = output_df\n",
    "out_final.head()"
   ]
  },
  {
   "cell_type": "code",
   "execution_count": null,
   "metadata": {},
   "outputs": [],
   "source": [
    "## We push them to our online shop using the Woocommerce Rest API\n",
    "\n",
    "woocommerce.upload_recommendations('data/output_data.csv', top_n = 10)"
   ]
  }
 ],
 "metadata": {
  "kernelspec": {
   "display_name": "Python 3",
   "language": "python",
   "name": "python3"
  },
  "language_info": {
   "codemirror_mode": {
    "name": "ipython",
    "version": 3
   },
   "file_extension": ".py",
   "mimetype": "text/x-python",
   "name": "python",
   "nbconvert_exporter": "python",
   "pygments_lexer": "ipython3",
   "version": "3.7.3"
  }
 },
 "nbformat": 4,
 "nbformat_minor": 2
}
